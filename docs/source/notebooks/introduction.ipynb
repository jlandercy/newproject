{
 "cells": [
  {
   "cell_type": "markdown",
   "metadata": {},
   "source": [
    "# Introduction\n"
   ]
  },
  {
   "cell_type": "code",
   "execution_count": 1,
   "metadata": {
    "execution": {
     "iopub.execute_input": "2021-01-02T22:46:56.546743Z",
     "iopub.status.busy": "2021-01-02T22:46:56.546743Z",
     "iopub.status.idle": "2021-01-02T22:46:56.578308Z",
     "shell.execute_reply": "2021-01-02T22:46:56.578308Z"
    }
   },
   "outputs": [],
   "source": [
    "import newproject"
   ]
  },
  {
   "cell_type": "code",
   "execution_count": 2,
   "metadata": {
    "execution": {
     "iopub.execute_input": "2021-01-02T22:46:56.593675Z",
     "iopub.status.busy": "2021-01-02T22:46:56.593675Z",
     "iopub.status.idle": "2021-01-02T22:46:56.609244Z",
     "shell.execute_reply": "2021-01-02T22:46:56.609244Z"
    }
   },
   "outputs": [],
   "source": [
    "A = newproject.SimpleCase(value=17)"
   ]
  },
  {
   "cell_type": "code",
   "execution_count": 3,
   "metadata": {
    "execution": {
     "iopub.execute_input": "2021-01-02T22:46:56.624910Z",
     "iopub.status.busy": "2021-01-02T22:46:56.624910Z",
     "iopub.status.idle": "2021-01-02T22:46:56.640480Z",
     "shell.execute_reply": "2021-01-02T22:46:56.640480Z"
    }
   },
   "outputs": [
    {
     "data": {
      "text/plain": [
       "{'value': 17}"
      ]
     },
     "execution_count": 1,
     "metadata": {},
     "output_type": "execute_result"
    }
   ],
   "source": [
    "A.to_dict()"
   ]
  },
  {
   "cell_type": "code",
   "execution_count": 4,
   "metadata": {
    "execution": {
     "iopub.execute_input": "2021-01-02T22:46:56.646987Z",
     "iopub.status.busy": "2021-01-02T22:46:56.646987Z",
     "iopub.status.idle": "2021-01-02T22:46:56.662614Z",
     "shell.execute_reply": "2021-01-02T22:46:56.662614Z"
    }
   },
   "outputs": [
    {
     "data": {
      "text/plain": [
       "'{\"value\": 17}'"
      ]
     },
     "execution_count": 1,
     "metadata": {},
     "output_type": "execute_result"
    }
   ],
   "source": [
    "A.to_json()"
   ]
  },
  {
   "cell_type": "code",
   "execution_count": null,
   "metadata": {},
   "outputs": [],
   "source": []
  }
 ],
 "metadata": {
  "kernelspec": {
   "display_name": "Python 3",
   "language": "python",
   "name": "python3"
  },
  "language_info": {
   "codemirror_mode": {
    "name": "ipython",
    "version": 3
   },
   "file_extension": ".py",
   "mimetype": "text/x-python",
   "name": "python",
   "nbconvert_exporter": "python",
   "pygments_lexer": "ipython3",
   "version": "3.7.6"
  }
 },
 "nbformat": 4,
 "nbformat_minor": 4
}
