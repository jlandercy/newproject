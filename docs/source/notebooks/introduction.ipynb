{
 "cells": [
  {
   "cell_type": "markdown",
   "metadata": {},
   "source": [
    "# Introduction\n"
   ]
  },
  {
   "cell_type": "code",
   "execution_count": 1,
   "metadata": {
    "execution": {
     "iopub.execute_input": "2021-01-02T22:46:56.546743Z",
     "iopub.status.busy": "2021-01-02T22:46:56.546743Z",
     "iopub.status.idle": "2021-01-02T22:46:56.578308Z",
     "shell.execute_reply": "2021-01-02T22:46:56.578308Z"
    }
   },
   "outputs": [],
   "source": [
    "import datetime\n",
    "from newproject import SimpleCase, SimpleCaseWithSerializer"
   ]
  },
  {
   "cell_type": "code",
   "execution_count": 2,
   "metadata": {
    "execution": {
     "iopub.execute_input": "2021-01-02T22:46:56.593675Z",
     "iopub.status.busy": "2021-01-02T22:46:56.593675Z",
     "iopub.status.idle": "2021-01-02T22:46:56.609244Z",
     "shell.execute_reply": "2021-01-02T22:46:56.609244Z"
    }
   },
   "outputs": [],
   "source": [
    "a = SimpleCase(value=\"dummy\")"
   ]
  },
  {
   "cell_type": "code",
   "execution_count": 3,
   "metadata": {
    "execution": {
     "iopub.execute_input": "2021-01-02T22:46:56.624910Z",
     "iopub.status.busy": "2021-01-02T22:46:56.624910Z",
     "iopub.status.idle": "2021-01-02T22:46:56.640480Z",
     "shell.execute_reply": "2021-01-02T22:46:56.640480Z"
    }
   },
   "outputs": [
    {
     "data": {
      "text/plain": [
       "{'value': 'dummy'}"
      ]
     },
     "execution_count": 3,
     "metadata": {},
     "output_type": "execute_result"
    }
   ],
   "source": [
    "a.to_dict()"
   ]
  },
  {
   "cell_type": "code",
   "execution_count": 4,
   "metadata": {
    "execution": {
     "iopub.execute_input": "2021-01-02T22:46:56.646987Z",
     "iopub.status.busy": "2021-01-02T22:46:56.646987Z",
     "iopub.status.idle": "2021-01-02T22:46:56.662614Z",
     "shell.execute_reply": "2021-01-02T22:46:56.662614Z"
    }
   },
   "outputs": [
    {
     "data": {
      "text/plain": [
       "'{\"value\": \"dummy\"}'"
      ]
     },
     "execution_count": 4,
     "metadata": {},
     "output_type": "execute_result"
    }
   ],
   "source": [
    "a.to_json()"
   ]
  },
  {
   "cell_type": "code",
   "execution_count": 5,
   "metadata": {},
   "outputs": [],
   "source": [
    "b = SimpleCase(**a.to_dict())"
   ]
  },
  {
   "cell_type": "code",
   "execution_count": 6,
   "metadata": {},
   "outputs": [
    {
     "data": {
      "text/plain": [
       "True"
      ]
     },
     "execution_count": 6,
     "metadata": {},
     "output_type": "execute_result"
    }
   ],
   "source": [
    "a.to_dict() == b.to_dict()"
   ]
  },
  {
   "cell_type": "code",
   "execution_count": 7,
   "metadata": {},
   "outputs": [],
   "source": [
    "t = datetime.datetime(2021, 1, 1)"
   ]
  },
  {
   "cell_type": "code",
   "execution_count": 8,
   "metadata": {},
   "outputs": [],
   "source": [
    "c = SimpleCaseWithSerializer(value=t)"
   ]
  },
  {
   "cell_type": "code",
   "execution_count": 9,
   "metadata": {},
   "outputs": [
    {
     "data": {
      "text/plain": [
       "{'value': datetime.datetime(2021, 1, 1, 0, 0)}"
      ]
     },
     "execution_count": 9,
     "metadata": {},
     "output_type": "execute_result"
    }
   ],
   "source": [
    "c.to_dict()"
   ]
  },
  {
   "cell_type": "code",
   "execution_count": 10,
   "metadata": {},
   "outputs": [
    {
     "data": {
      "text/plain": [
       "'{\"value\": \"2021-01-01T00:00:00\"}'"
      ]
     },
     "execution_count": 10,
     "metadata": {},
     "output_type": "execute_result"
    }
   ],
   "source": [
    "c.to_json()"
   ]
  },
  {
   "cell_type": "code",
   "execution_count": null,
   "metadata": {},
   "outputs": [],
   "source": []
  },
  {
   "cell_type": "code",
   "execution_count": null,
   "metadata": {},
   "outputs": [],
   "source": []
  }
 ],
 "metadata": {
  "kernelspec": {
   "display_name": "Python 3",
   "language": "python",
   "name": "python3"
  },
  "language_info": {
   "codemirror_mode": {
    "name": "ipython",
    "version": 3
   },
   "file_extension": ".py",
   "mimetype": "text/x-python",
   "name": "python",
   "nbconvert_exporter": "python",
   "pygments_lexer": "ipython3",
   "version": "3.7.6"
  }
 },
 "nbformat": 4,
 "nbformat_minor": 4
}
